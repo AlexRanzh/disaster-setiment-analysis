{
 "cells": [
  {
   "cell_type": "markdown",
   "id": "ed81992e",
   "metadata": {},
   "source": [
    "# Clean and Preprocess Twitter Data"
   ]
  },
  {
   "cell_type": "code",
   "execution_count": 1,
   "id": "b82f011f",
   "metadata": {
    "ExecuteTime": {
     "end_time": "2021-11-20T02:00:14.895777Z",
     "start_time": "2021-11-20T02:00:14.542762Z"
    }
   },
   "outputs": [],
   "source": [
    "import pandas as pd"
   ]
  },
  {
   "cell_type": "code",
   "execution_count": 2,
   "id": "465bbff6",
   "metadata": {
    "ExecuteTime": {
     "end_time": "2021-11-20T02:01:21.540077Z",
     "start_time": "2021-11-20T02:01:20.820476Z"
    }
   },
   "outputs": [],
   "source": [
    "pre_h = pd.read_csv('twitter_data/pre_h.csv', index_col=0, lineterminator='\\n')\n",
    "in_h = pd.read_csv('twitter_data/in_h.csv', index_col=0, lineterminator='\\n')\n",
    "post_h = pd.read_csv('twitter_data/post_h.csv', index_col=0, lineterminator='\\n')"
   ]
  },
  {
   "cell_type": "code",
   "execution_count": 3,
   "id": "def87754",
   "metadata": {
    "ExecuteTime": {
     "end_time": "2021-11-20T02:01:25.814416Z",
     "start_time": "2021-11-20T02:01:25.804444Z"
    }
   },
   "outputs": [
    {
     "data": {
      "text/plain": [
       "(111225, 8)"
      ]
     },
     "execution_count": 3,
     "metadata": {},
     "output_type": "execute_result"
    }
   ],
   "source": [
    "pre_h.shape"
   ]
  },
  {
   "cell_type": "code",
   "execution_count": 64,
   "id": "fb330be8",
   "metadata": {
    "ExecuteTime": {
     "end_time": "2021-11-20T02:27:42.393001Z",
     "start_time": "2021-11-20T02:27:42.381996Z"
    }
   },
   "outputs": [
    {
     "data": {
      "text/html": [
       "<div>\n",
       "<style scoped>\n",
       "    .dataframe tbody tr th:only-of-type {\n",
       "        vertical-align: middle;\n",
       "    }\n",
       "\n",
       "    .dataframe tbody tr th {\n",
       "        vertical-align: top;\n",
       "    }\n",
       "\n",
       "    .dataframe thead th {\n",
       "        text-align: right;\n",
       "    }\n",
       "</style>\n",
       "<table border=\"1\" class=\"dataframe\">\n",
       "  <thead>\n",
       "    <tr style=\"text-align: right;\">\n",
       "      <th></th>\n",
       "      <th>created_at</th>\n",
       "      <th>full_text</th>\n",
       "      <th>user_id_str</th>\n",
       "      <th>geo</th>\n",
       "      <th>place</th>\n",
       "      <th>lang</th>\n",
       "      <th>retweet_count</th>\n",
       "      <th>favorite_count</th>\n",
       "    </tr>\n",
       "    <tr>\n",
       "      <th>id</th>\n",
       "      <th></th>\n",
       "      <th></th>\n",
       "      <th></th>\n",
       "      <th></th>\n",
       "      <th></th>\n",
       "      <th></th>\n",
       "      <th></th>\n",
       "      <th></th>\n",
       "    </tr>\n",
       "  </thead>\n",
       "  <tbody>\n",
       "    <tr>\n",
       "      <th>1431845676741234688</th>\n",
       "      <td>Sun Aug 29 05:06:26 +0000 2021</td>\n",
       "      <td>Via @TropicalTidbits, latest RECON mission sho...</td>\n",
       "      <td>1371119451454763010</td>\n",
       "      <td>NaN</td>\n",
       "      <td>NaN</td>\n",
       "      <td>en</td>\n",
       "      <td>2</td>\n",
       "      <td>2</td>\n",
       "    </tr>\n",
       "    <tr>\n",
       "      <th>1432169290493476870</th>\n",
       "      <td>Mon Aug 30 02:32:21 +0000 2021</td>\n",
       "      <td>Update from Slidell PD back home. I'm worried ...</td>\n",
       "      <td>1125613827461087239</td>\n",
       "      <td>NaN</td>\n",
       "      <td>NaN</td>\n",
       "      <td>en</td>\n",
       "      <td>2</td>\n",
       "      <td>12</td>\n",
       "    </tr>\n",
       "    <tr>\n",
       "      <th>1431913119039860737</th>\n",
       "      <td>Sun Aug 29 09:34:25 +0000 2021</td>\n",
       "      <td>Le «dangereux» ouragan Ida est maintenant de c...</td>\n",
       "      <td>85334007</td>\n",
       "      <td>NaN</td>\n",
       "      <td>NaN</td>\n",
       "      <td>fr</td>\n",
       "      <td>3</td>\n",
       "      <td>5</td>\n",
       "    </tr>\n",
       "    <tr>\n",
       "      <th>1432059377415036940</th>\n",
       "      <td>Sun Aug 29 19:15:36 +0000 2021</td>\n",
       "      <td>When you decide to turn on some music and the ...</td>\n",
       "      <td>4867778235</td>\n",
       "      <td>NaN</td>\n",
       "      <td>NaN</td>\n",
       "      <td>en</td>\n",
       "      <td>0</td>\n",
       "      <td>5</td>\n",
       "    </tr>\n",
       "    <tr>\n",
       "      <th>1432333373578620932</th>\n",
       "      <td>Mon Aug 30 13:24:22 +0000 2021</td>\n",
       "      <td>FEMA, Homeland Security, National Guard, Red C...</td>\n",
       "      <td>1321432089225535490</td>\n",
       "      <td>NaN</td>\n",
       "      <td>{'id': '4ec01c9dbc693497', 'url': 'https://api...</td>\n",
       "      <td>en</td>\n",
       "      <td>0</td>\n",
       "      <td>1</td>\n",
       "    </tr>\n",
       "  </tbody>\n",
       "</table>\n",
       "</div>"
      ],
      "text/plain": [
       "                                         created_at  \\\n",
       "id                                                    \n",
       "1431845676741234688  Sun Aug 29 05:06:26 +0000 2021   \n",
       "1432169290493476870  Mon Aug 30 02:32:21 +0000 2021   \n",
       "1431913119039860737  Sun Aug 29 09:34:25 +0000 2021   \n",
       "1432059377415036940  Sun Aug 29 19:15:36 +0000 2021   \n",
       "1432333373578620932  Mon Aug 30 13:24:22 +0000 2021   \n",
       "\n",
       "                                                             full_text  \\\n",
       "id                                                                       \n",
       "1431845676741234688  Via @TropicalTidbits, latest RECON mission sho...   \n",
       "1432169290493476870  Update from Slidell PD back home. I'm worried ...   \n",
       "1431913119039860737  Le «dangereux» ouragan Ida est maintenant de c...   \n",
       "1432059377415036940  When you decide to turn on some music and the ...   \n",
       "1432333373578620932  FEMA, Homeland Security, National Guard, Red C...   \n",
       "\n",
       "                             user_id_str  geo  \\\n",
       "id                                              \n",
       "1431845676741234688  1371119451454763010  NaN   \n",
       "1432169290493476870  1125613827461087239  NaN   \n",
       "1431913119039860737             85334007  NaN   \n",
       "1432059377415036940           4867778235  NaN   \n",
       "1432333373578620932  1321432089225535490  NaN   \n",
       "\n",
       "                                                                 place lang  \\\n",
       "id                                                                            \n",
       "1431845676741234688                                                NaN   en   \n",
       "1432169290493476870                                                NaN   en   \n",
       "1431913119039860737                                                NaN   fr   \n",
       "1432059377415036940                                                NaN   en   \n",
       "1432333373578620932  {'id': '4ec01c9dbc693497', 'url': 'https://api...   en   \n",
       "\n",
       "                     retweet_count  favorite_count  \n",
       "id                                                  \n",
       "1431845676741234688              2               2  \n",
       "1432169290493476870              2              12  \n",
       "1431913119039860737              3               5  \n",
       "1432059377415036940              0               5  \n",
       "1432333373578620932              0               1  "
      ]
     },
     "execution_count": 64,
     "metadata": {},
     "output_type": "execute_result"
    }
   ],
   "source": [
    "pre_h.head()"
   ]
  },
  {
   "cell_type": "markdown",
   "id": "1ad2ff33",
   "metadata": {},
   "source": [
    "### Clean Data"
   ]
  },
  {
   "cell_type": "code",
   "execution_count": 70,
   "id": "efecbdf7",
   "metadata": {
    "ExecuteTime": {
     "end_time": "2021-11-20T02:34:05.048371Z",
     "start_time": "2021-11-20T02:34:05.043128Z"
    }
   },
   "outputs": [],
   "source": [
    "import re\n",
    "import contractions"
   ]
  },
  {
   "cell_type": "code",
   "execution_count": 71,
   "id": "6fcd6f81",
   "metadata": {
    "ExecuteTime": {
     "end_time": "2021-11-20T02:27:58.853038Z",
     "start_time": "2021-11-20T02:27:58.849930Z"
    }
   },
   "outputs": [],
   "source": [
    "def strip_url(t):\n",
    "    return re.sub(r'\\w+:\\/{2}[\\d\\w-]+(\\.[\\d\\w-]+)*(?:(?:\\/[^\\s/]*))*', '', t, flags=re.MULTILINE)"
   ]
  },
  {
   "cell_type": "code",
   "execution_count": 90,
   "id": "27ebde90",
   "metadata": {
    "ExecuteTime": {
     "end_time": "2021-11-20T02:34:05.048371Z",
     "start_time": "2021-11-20T02:34:05.043128Z"
    }
   },
   "outputs": [],
   "source": [
    "def clean_twitter(df):\n",
    "    \n",
    "    # select only english text\n",
    "    df = df[df.lang == 'en']\n",
    "    text = df.full_text\n",
    "    \n",
    "    print('Average twitter length before cleaning: ', text.apply(lambda x: len(x)).mean())\n",
    "    \n",
    "    # lower characters\n",
    "    text = text.str.lower()  \n",
    "    # strip urls\n",
    "    text = text.apply(lambda x: strip_url(x))\n",
    "    # revert contraction\n",
    "    text = text.apply(lambda x: contractions.fix(x))\n",
    "    # remove non-alphanumeric\n",
    "    text = text.str.replace('[^a-zA-Z]', ' ', regex=True)\n",
    "    # remove extra spaces\n",
    "    text = text.str.replace('\\s+', ' ', regex=True)\n",
    "\n",
    "    print('Average twitter length after cleaning: ', text.apply(lambda x: len(x)).mean())\n",
    "    \n",
    "    return text"
   ]
  },
  {
   "cell_type": "code",
   "execution_count": 91,
   "id": "6470d1d7",
   "metadata": {
    "ExecuteTime": {
     "end_time": "2021-11-20T02:39:37.637805Z",
     "start_time": "2021-11-20T02:39:33.441455Z"
    },
    "scrolled": false
   },
   "outputs": [
    {
     "name": "stdout",
     "output_type": "stream",
     "text": [
      "Average twitter length before cleaning:  159.19382073700584\n",
      "Average twitter length after cleaning:  136.79279085984015\n"
     ]
    }
   ],
   "source": [
    "text_pre = clean_twitter(pre_h)"
   ]
  },
  {
   "cell_type": "code",
   "execution_count": 97,
   "id": "680351d7",
   "metadata": {
    "ExecuteTime": {
     "end_time": "2021-11-20T02:39:37.637805Z",
     "start_time": "2021-11-20T02:39:33.441455Z"
    },
    "scrolled": false
   },
   "outputs": [
    {
     "name": "stdout",
     "output_type": "stream",
     "text": [
      "Average twitter length before cleaning:  174.71709384594848\n",
      "Average twitter length after cleaning:  149.05096115338407\n"
     ]
    }
   ],
   "source": [
    "text_in = clean_twitter(in_h)"
   ]
  },
  {
   "cell_type": "code",
   "execution_count": 98,
   "id": "d37f24a7",
   "metadata": {
    "ExecuteTime": {
     "end_time": "2021-11-20T02:39:37.637805Z",
     "start_time": "2021-11-20T02:39:33.441455Z"
    },
    "scrolled": true
   },
   "outputs": [
    {
     "name": "stdout",
     "output_type": "stream",
     "text": [
      "Average twitter length before cleaning:  197.19462227912933\n",
      "Average twitter length after cleaning:  165.8894804232091\n"
     ]
    }
   ],
   "source": [
    "text_post = clean_twitter(post_h)"
   ]
  },
  {
   "cell_type": "markdown",
   "id": "43e49714",
   "metadata": {},
   "source": [
    "### Preprocess Data"
   ]
  },
  {
   "cell_type": "code",
   "execution_count": 81,
   "id": "0062df0e",
   "metadata": {
    "ExecuteTime": {
     "end_time": "2021-11-20T02:28:23.476709Z",
     "start_time": "2021-11-20T02:28:23.473820Z"
    }
   },
   "outputs": [],
   "source": [
    "from nltk.corpus import stopwords"
   ]
  },
  {
   "cell_type": "code",
   "execution_count": 85,
   "id": "5c3f8f0b",
   "metadata": {
    "ExecuteTime": {
     "end_time": "2021-11-20T02:28:41.560543Z",
     "start_time": "2021-11-20T02:28:41.557695Z"
    }
   },
   "outputs": [],
   "source": [
    "from nltk.stem import WordNetLemmatizer"
   ]
  },
  {
   "cell_type": "code",
   "execution_count": 82,
   "id": "d5768d7d",
   "metadata": {
    "ExecuteTime": {
     "end_time": "2021-11-20T02:28:23.532563Z",
     "start_time": "2021-11-20T02:28:23.528147Z"
    }
   },
   "outputs": [],
   "source": [
    "def remove_stopwords(s):\n",
    "    processed_s = \"\"\n",
    "    cached_stopwords = stopwords.words('english')\n",
    "    for word in s.split():\n",
    "        if word not in cached_stopwords:\n",
    "            processed_s += (word+' ')\n",
    "    return processed_s"
   ]
  },
  {
   "cell_type": "code",
   "execution_count": 86,
   "id": "134e7488",
   "metadata": {
    "ExecuteTime": {
     "end_time": "2021-11-20T02:28:41.617573Z",
     "start_time": "2021-11-20T02:28:41.613809Z"
    }
   },
   "outputs": [],
   "source": [
    "def lemmatize(s):\n",
    "    lemmatizer = WordNetLemmatizer()\n",
    "    result = \"\"\n",
    "    for word in s.split():\n",
    "        result += (lemmatizer.lemmatize(word, pos='v') + ' ')\n",
    "    return result"
   ]
  },
  {
   "cell_type": "code",
   "execution_count": 92,
   "id": "9f076dc9",
   "metadata": {
    "ExecuteTime": {
     "end_time": "2021-11-20T02:36:17.390305Z",
     "start_time": "2021-11-20T02:36:17.386092Z"
    }
   },
   "outputs": [],
   "source": [
    "def preprocess_twitter(text):\n",
    "    \n",
    "    print('Average twitter length before cleaning: ', text.apply(lambda x: len(x)).mean())\n",
    "\n",
    "    text = text.apply(lambda x: remove_stopwords(x))\n",
    "    text = text.apply(lambda x: lemmatize(x))\n",
    "\n",
    "    print('Average twitter length after cleaning: ', text.apply(lambda x: len(x)).mean())\n",
    "    \n",
    "    return text"
   ]
  },
  {
   "cell_type": "code",
   "execution_count": 93,
   "id": "16f0f04a",
   "metadata": {
    "ExecuteTime": {
     "end_time": "2021-11-20T02:36:51.548546Z",
     "start_time": "2021-11-20T02:36:27.987303Z"
    }
   },
   "outputs": [
    {
     "name": "stdout",
     "output_type": "stream",
     "text": [
      "Average twitter length before cleaning:  136.79279085984015\n",
      "Average twitter length after cleaning:  99.08281928874108\n"
     ]
    }
   ],
   "source": [
    "text_pre = preprocess_twitter(text_pre)"
   ]
  },
  {
   "cell_type": "code",
   "execution_count": 99,
   "id": "cbc817fc",
   "metadata": {
    "ExecuteTime": {
     "end_time": "2021-11-20T02:41:16.492185Z",
     "start_time": "2021-11-20T02:41:12.287476Z"
    }
   },
   "outputs": [
    {
     "name": "stdout",
     "output_type": "stream",
     "text": [
      "Average twitter length before cleaning:  149.05096115338407\n",
      "Average twitter length after cleaning:  109.32922840742224\n"
     ]
    }
   ],
   "source": [
    "text_in = preprocess_twitter(text_in)"
   ]
  },
  {
   "cell_type": "code",
   "execution_count": 100,
   "id": "8ed744be",
   "metadata": {
    "ExecuteTime": {
     "end_time": "2021-11-20T02:41:16.492185Z",
     "start_time": "2021-11-20T02:41:12.287476Z"
    }
   },
   "outputs": [
    {
     "name": "stdout",
     "output_type": "stream",
     "text": [
      "Average twitter length before cleaning:  165.8894804232091\n",
      "Average twitter length after cleaning:  123.87189163690276\n"
     ]
    }
   ],
   "source": [
    "text_post = preprocess_twitter(text_post)"
   ]
  },
  {
   "cell_type": "markdown",
   "id": "97d3b51c",
   "metadata": {},
   "source": [
    "### Save Preprocessed Data"
   ]
  },
  {
   "cell_type": "code",
   "execution_count": 101,
   "id": "a0e3e0b7",
   "metadata": {
    "ExecuteTime": {
     "end_time": "2021-11-20T02:41:45.497597Z",
     "start_time": "2021-11-20T02:41:45.097124Z"
    }
   },
   "outputs": [],
   "source": [
    "text_pre.to_csv('processed_pre_h.csv')"
   ]
  },
  {
   "cell_type": "code",
   "execution_count": 102,
   "id": "b39f52b4",
   "metadata": {
    "ExecuteTime": {
     "end_time": "2021-11-20T02:41:46.377935Z",
     "start_time": "2021-11-20T02:41:46.292748Z"
    }
   },
   "outputs": [],
   "source": [
    "text_in.to_csv('processed_in_h.csv')"
   ]
  },
  {
   "cell_type": "code",
   "execution_count": 103,
   "id": "8e91607b",
   "metadata": {
    "ExecuteTime": {
     "end_time": "2021-11-20T02:41:46.377935Z",
     "start_time": "2021-11-20T02:41:46.292748Z"
    }
   },
   "outputs": [],
   "source": [
    "text_post.to_csv('processed_post_h.csv')"
   ]
  },
  {
   "cell_type": "markdown",
   "id": "4bf88aa2",
   "metadata": {},
   "source": [
    "### (Archive)Tests"
   ]
  },
  {
   "cell_type": "code",
   "execution_count": 65,
   "id": "66e9b039",
   "metadata": {
    "ExecuteTime": {
     "end_time": "2021-11-20T02:27:52.968057Z",
     "start_time": "2021-11-20T02:27:52.946093Z"
    }
   },
   "outputs": [],
   "source": [
    "# select only english text\n",
    "pre_h = pre_h[pre_h.lang == 'en']"
   ]
  },
  {
   "cell_type": "code",
   "execution_count": 66,
   "id": "e7a06bb9",
   "metadata": {
    "ExecuteTime": {
     "end_time": "2021-11-20T02:27:55.049915Z",
     "start_time": "2021-11-20T02:27:55.046962Z"
    }
   },
   "outputs": [],
   "source": [
    "text = pre_h.full_text"
   ]
  },
  {
   "cell_type": "code",
   "execution_count": 67,
   "id": "c18424f3",
   "metadata": {
    "ExecuteTime": {
     "end_time": "2021-11-20T02:27:57.295157Z",
     "start_time": "2021-11-20T02:27:57.196428Z"
    }
   },
   "outputs": [],
   "source": [
    "# lower characters\n",
    "text = text.str.lower()  "
   ]
  },
  {
   "cell_type": "code",
   "execution_count": 68,
   "id": "a3fba281",
   "metadata": {
    "ExecuteTime": {
     "end_time": "2021-11-20T02:27:57.674705Z",
     "start_time": "2021-11-20T02:27:57.626277Z"
    }
   },
   "outputs": [
    {
     "data": {
      "text/plain": [
       "159.19384219278012"
      ]
     },
     "execution_count": 68,
     "metadata": {},
     "output_type": "execute_result"
    }
   ],
   "source": [
    "text.apply(lambda x: len(x)).mean()"
   ]
  },
  {
   "cell_type": "code",
   "execution_count": 69,
   "id": "d509d084",
   "metadata": {
    "ExecuteTime": {
     "end_time": "2021-11-20T02:27:57.903059Z",
     "start_time": "2021-11-20T02:27:57.898765Z"
    }
   },
   "outputs": [
    {
     "data": {
      "text/plain": [
       "\"update from slidell pd back home. i'm worried about my folks. #hurricaneida #slidell https://t.co/v8gopihvei\""
      ]
     },
     "execution_count": 69,
     "metadata": {},
     "output_type": "execute_result"
    }
   ],
   "source": [
    "text.iloc[1]"
   ]
  },
  {
   "cell_type": "code",
   "execution_count": 72,
   "id": "dd1c4794",
   "metadata": {
    "ExecuteTime": {
     "end_time": "2021-11-20T02:28:01.345218Z",
     "start_time": "2021-11-20T02:28:00.336015Z"
    }
   },
   "outputs": [],
   "source": [
    "text = text.apply(lambda x: strip_url(x))"
   ]
  },
  {
   "cell_type": "code",
   "execution_count": 73,
   "id": "b12a1643",
   "metadata": {
    "ExecuteTime": {
     "end_time": "2021-11-20T02:28:01.392112Z",
     "start_time": "2021-11-20T02:28:01.387864Z"
    }
   },
   "outputs": [
    {
     "data": {
      "text/plain": [
       "\"update from slidell pd back home. i'm worried about my folks. #hurricaneida #slidell \""
      ]
     },
     "execution_count": 73,
     "metadata": {},
     "output_type": "execute_result"
    }
   ],
   "source": [
    "text.iloc[1]"
   ]
  },
  {
   "cell_type": "code",
   "execution_count": 74,
   "id": "cbdd44ff",
   "metadata": {
    "ExecuteTime": {
     "end_time": "2021-11-20T02:28:01.492258Z",
     "start_time": "2021-11-20T02:28:01.442571Z"
    }
   },
   "outputs": [
    {
     "data": {
      "text/plain": [
       "145.23494072842354"
      ]
     },
     "execution_count": 74,
     "metadata": {},
     "output_type": "execute_result"
    }
   ],
   "source": [
    "# strip urls\n",
    "text.apply(lambda x: len(x)).mean()"
   ]
  },
  {
   "cell_type": "code",
   "execution_count": 76,
   "id": "d50ce42d",
   "metadata": {
    "ExecuteTime": {
     "end_time": "2021-11-20T02:28:21.418799Z",
     "start_time": "2021-11-20T02:28:01.680524Z"
    }
   },
   "outputs": [],
   "source": [
    "# revert contraction\n",
    "text = text.apply(lambda x: contractions.fix(x))"
   ]
  },
  {
   "cell_type": "code",
   "execution_count": 77,
   "id": "12633667",
   "metadata": {
    "ExecuteTime": {
     "end_time": "2021-11-20T02:28:23.425340Z",
     "start_time": "2021-11-20T02:28:23.380228Z"
    }
   },
   "outputs": [
    {
     "data": {
      "text/plain": [
       "145.6231293246795"
      ]
     },
     "execution_count": 77,
     "metadata": {},
     "output_type": "execute_result"
    }
   ],
   "source": [
    "text.apply(lambda x: len(x)).mean()"
   ]
  },
  {
   "cell_type": "code",
   "execution_count": 78,
   "id": "9b417196",
   "metadata": {
    "ExecuteTime": {
     "end_time": "2021-11-20T02:28:22.421192Z",
     "start_time": "2021-11-20T02:28:21.575563Z"
    }
   },
   "outputs": [],
   "source": [
    "# remove non-alphanumeric\n",
    "text = text.str.replace('[^a-zA-Z]', ' ', regex=True)"
   ]
  },
  {
   "cell_type": "code",
   "execution_count": 79,
   "id": "b6a36392",
   "metadata": {
    "ExecuteTime": {
     "end_time": "2021-11-20T02:28:23.337366Z",
     "start_time": "2021-11-20T02:28:22.482485Z"
    }
   },
   "outputs": [],
   "source": [
    "# remove extra spaces\n",
    "text = text.str.replace('\\s+', ' ', regex=True)"
   ]
  },
  {
   "cell_type": "code",
   "execution_count": 80,
   "id": "ac28323f",
   "metadata": {
    "ExecuteTime": {
     "end_time": "2021-11-20T02:28:23.425340Z",
     "start_time": "2021-11-20T02:28:23.380228Z"
    },
    "scrolled": true
   },
   "outputs": [
    {
     "data": {
      "text/plain": [
       "136.79279085984015"
      ]
     },
     "execution_count": 80,
     "metadata": {},
     "output_type": "execute_result"
    }
   ],
   "source": [
    "text.apply(lambda x: len(x)).mean()"
   ]
  },
  {
   "cell_type": "code",
   "execution_count": 84,
   "id": "23937058",
   "metadata": {
    "ExecuteTime": {
     "end_time": "2021-11-20T02:28:46.931143Z",
     "start_time": "2021-11-20T02:28:46.888103Z"
    },
    "scrolled": true
   },
   "outputs": [
    {
     "data": {
      "text/plain": [
       "102.88265837043394"
      ]
     },
     "execution_count": 84,
     "metadata": {},
     "output_type": "execute_result"
    }
   ],
   "source": [
    "text.apply(lambda x: len(x)).mean()"
   ]
  },
  {
   "cell_type": "code",
   "execution_count": 83,
   "id": "5078baa8",
   "metadata": {
    "ExecuteTime": {
     "end_time": "2021-11-20T02:28:41.415078Z",
     "start_time": "2021-11-20T02:28:23.582198Z"
    }
   },
   "outputs": [],
   "source": [
    "text = text.apply(lambda x: remove_stopwords(x))"
   ]
  },
  {
   "cell_type": "code",
   "execution_count": 87,
   "id": "20cedf61",
   "metadata": {
    "ExecuteTime": {
     "end_time": "2021-11-20T02:28:46.840710Z",
     "start_time": "2021-11-20T02:28:41.672317Z"
    }
   },
   "outputs": [],
   "source": [
    "text = text.apply(lambda x: lemmatize(x))"
   ]
  },
  {
   "cell_type": "code",
   "execution_count": 88,
   "id": "2b59f118",
   "metadata": {
    "ExecuteTime": {
     "end_time": "2021-11-20T02:28:46.931143Z",
     "start_time": "2021-11-20T02:28:46.888103Z"
    },
    "scrolled": false
   },
   "outputs": [
    {
     "data": {
      "text/plain": [
       "99.08281928874108"
      ]
     },
     "execution_count": 88,
     "metadata": {},
     "output_type": "execute_result"
    }
   ],
   "source": [
    "text.apply(lambda x: len(x)).mean()"
   ]
  },
  {
   "cell_type": "code",
   "execution_count": 96,
   "id": "380cd02e",
   "metadata": {
    "ExecuteTime": {
     "end_time": "2021-11-20T02:37:10.293235Z",
     "start_time": "2021-11-20T02:37:10.266916Z"
    }
   },
   "outputs": [
    {
     "data": {
      "text/plain": [
       "True"
      ]
     },
     "execution_count": 96,
     "metadata": {},
     "output_type": "execute_result"
    }
   ],
   "source": [
    "all(text == text_pre)"
   ]
  },
  {
   "cell_type": "code",
   "execution_count": null,
   "id": "bb852721",
   "metadata": {},
   "outputs": [],
   "source": []
  }
 ],
 "metadata": {
  "kernelspec": {
   "display_name": "Python 3 (ipykernel)",
   "language": "python",
   "name": "python3"
  },
  "language_info": {
   "codemirror_mode": {
    "name": "ipython",
    "version": 3
   },
   "file_extension": ".py",
   "mimetype": "text/x-python",
   "name": "python",
   "nbconvert_exporter": "python",
   "pygments_lexer": "ipython3",
   "version": "3.8.2"
  },
  "varInspector": {
   "cols": {
    "lenName": 16,
    "lenType": 16,
    "lenVar": 40
   },
   "kernels_config": {
    "python": {
     "delete_cmd_postfix": "",
     "delete_cmd_prefix": "del ",
     "library": "var_list.py",
     "varRefreshCmd": "print(var_dic_list())"
    },
    "r": {
     "delete_cmd_postfix": ") ",
     "delete_cmd_prefix": "rm(",
     "library": "var_list.r",
     "varRefreshCmd": "cat(var_dic_list()) "
    }
   },
   "types_to_exclude": [
    "module",
    "function",
    "builtin_function_or_method",
    "instance",
    "_Feature"
   ],
   "window_display": false
  }
 },
 "nbformat": 4,
 "nbformat_minor": 5
}
