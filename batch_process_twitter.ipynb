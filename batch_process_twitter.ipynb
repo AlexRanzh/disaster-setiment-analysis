{
 "cells": [
  {
   "cell_type": "markdown",
   "id": "55b3c83a",
   "metadata": {},
   "source": [
    "#  Batch Process Scrapped Twitter Data in to Raw Datasets"
   ]
  },
  {
   "cell_type": "raw",
   "id": "893b21f9",
   "metadata": {},
   "source": [
    "(hurricane OR Louisiana OR Ida OR HurricaneIda) (#Ida OR #HurricaneIda OR #hurricaneida OR #louisiana) \\\n"
   ]
  },
  {
   "cell_type": "code",
   "execution_count": 1,
   "id": "3e6e8fe0",
   "metadata": {
    "ExecuteTime": {
     "end_time": "2021-11-19T20:52:53.732721Z",
     "start_time": "2021-11-19T20:52:53.729776Z"
    }
   },
   "outputs": [],
   "source": [
    "import os\n",
    "import sys\n",
    "import json\n"
   ]
  },
  {
   "cell_type": "code",
   "execution_count": 2,
   "id": "9f085979",
   "metadata": {
    "ExecuteTime": {
     "end_time": "2021-11-19T20:52:54.569334Z",
     "start_time": "2021-11-19T20:52:54.146382Z"
    }
   },
   "outputs": [],
   "source": [
    "import pandas as pd"
   ]
  },
  {
   "cell_type": "markdown",
   "id": "1619088d",
   "metadata": {},
   "source": [
    "## Read File by File and Extract Useful Fields"
   ]
  },
  {
   "cell_type": "code",
   "execution_count": 102,
   "id": "b5cd7ea7",
   "metadata": {
    "ExecuteTime": {
     "end_time": "2021-11-20T01:48:16.689928Z",
     "start_time": "2021-11-20T01:48:16.687222Z"
    }
   },
   "outputs": [],
   "source": [
    "in_path = './twitter_data/tweet-pre3'"
   ]
  },
  {
   "cell_type": "code",
   "execution_count": 103,
   "id": "f37f3296",
   "metadata": {
    "ExecuteTime": {
     "end_time": "2021-11-20T01:48:18.014217Z",
     "start_time": "2021-11-20T01:48:18.011831Z"
    }
   },
   "outputs": [],
   "source": [
    "out_path = './twitter_out_pre3.csv'"
   ]
  },
  {
   "cell_type": "code",
   "execution_count": 104,
   "id": "a26e9052",
   "metadata": {
    "ExecuteTime": {
     "end_time": "2021-11-20T01:48:19.346227Z",
     "start_time": "2021-11-20T01:48:19.331662Z"
    }
   },
   "outputs": [],
   "source": [
    "out_data_list = []"
   ]
  },
  {
   "cell_type": "code",
   "execution_count": 105,
   "id": "fb7f0ec6",
   "metadata": {
    "ExecuteTime": {
     "end_time": "2021-11-20T01:48:19.688444Z",
     "start_time": "2021-11-20T01:48:19.685577Z"
    }
   },
   "outputs": [],
   "source": [
    "columns = ['id', 'created_at', \n",
    "          'full_text', 'user_id_str', \n",
    "          'geo', 'place', 'lang', \n",
    "          'retweet_count', 'favorite_count']"
   ]
  },
  {
   "cell_type": "code",
   "execution_count": 106,
   "id": "f3b5f393",
   "metadata": {
    "ExecuteTime": {
     "end_time": "2021-11-20T01:49:10.427744Z",
     "start_time": "2021-11-20T01:48:20.706553Z"
    }
   },
   "outputs": [],
   "source": [
    "for file in os.listdir(in_path):\n",
    "    current_file = os.path.join(in_path, file)\n",
    "    with open(current_file, \"rb\") as f:\n",
    "        data = f.readline()\n",
    "    data = json.loads(data)\n",
    "    out_data_list.append([data['raw_data'][c] for c in columns])"
   ]
  },
  {
   "cell_type": "code",
   "execution_count": 107,
   "id": "946e0dc7",
   "metadata": {
    "ExecuteTime": {
     "end_time": "2021-11-20T01:49:13.733127Z",
     "start_time": "2021-11-20T01:49:13.729675Z"
    }
   },
   "outputs": [
    {
     "data": {
      "text/plain": [
       "108030"
      ]
     },
     "execution_count": 107,
     "metadata": {},
     "output_type": "execute_result"
    }
   ],
   "source": [
    "len(out_data_list)"
   ]
  },
  {
   "cell_type": "code",
   "execution_count": 108,
   "id": "2af014d8",
   "metadata": {
    "ExecuteTime": {
     "end_time": "2021-11-20T01:49:18.233199Z",
     "start_time": "2021-11-20T01:49:17.180570Z"
    },
    "scrolled": true
   },
   "outputs": [],
   "source": [
    "pd.DataFrame(out_data_list, columns=columns).to_csv(out_path, index=False)"
   ]
  },
  {
   "cell_type": "markdown",
   "id": "b093d4fb",
   "metadata": {},
   "source": [
    "## Merge Multiple Sets and Remove Duplicates"
   ]
  },
  {
   "cell_type": "code",
   "execution_count": null,
   "id": "d9e3da9a",
   "metadata": {},
   "outputs": [],
   "source": [
    "p_dfs = []\n",
    "\n",
    "p_dfs.append(pd.read_csv('twitter_out_pre3.csv', index_col=0, lineterminator='\\n'))\n",
    "\n",
    "p_dfs.append(\n",
    "    pd.read_csv('twitter_out_pre2.csv', \n",
    "                index_col=1,\n",
    "               lineterminator='\\n').drop(columns=['Unnamed: 0']))\n",
    "\n",
    "p_dfs.append(\n",
    "    pd.read_csv('twitter_out_pre.csv', \n",
    "                index_col=1).drop(columns=['Unnamed: 0']))\n"
   ]
  },
  {
   "cell_type": "code",
   "execution_count": null,
   "id": "3679cc3d",
   "metadata": {},
   "outputs": [],
   "source": [
    "len(p_dfs)"
   ]
  },
  {
   "cell_type": "code",
   "execution_count": null,
   "id": "a74a60b9",
   "metadata": {},
   "outputs": [],
   "source": [
    "p = pd.concat(p_dfs)\n",
    "\n",
    "p = p[~p.index.duplicated(keep='first')]  # remove duplicate twitters"
   ]
  },
  {
   "cell_type": "code",
   "execution_count": null,
   "id": "fad53675",
   "metadata": {},
   "outputs": [],
   "source": [
    "p.shape"
   ]
  },
  {
   "cell_type": "code",
   "execution_count": null,
   "id": "e894be29",
   "metadata": {},
   "outputs": [],
   "source": [
    "p.to_csv('pre_h.csv')"
   ]
  },
  {
   "cell_type": "code",
   "execution_count": null,
   "id": "8a8758c6",
   "metadata": {},
   "outputs": [],
   "source": []
  }
 ],
 "metadata": {
  "kernelspec": {
   "display_name": "Python 3 (ipykernel)",
   "language": "python",
   "name": "python3"
  },
  "language_info": {
   "codemirror_mode": {
    "name": "ipython",
    "version": 3
   },
   "file_extension": ".py",
   "mimetype": "text/x-python",
   "name": "python",
   "nbconvert_exporter": "python",
   "pygments_lexer": "ipython3",
   "version": "3.8.2"
  },
  "varInspector": {
   "cols": {
    "lenName": 16,
    "lenType": 16,
    "lenVar": 40
   },
   "kernels_config": {
    "python": {
     "delete_cmd_postfix": "",
     "delete_cmd_prefix": "del ",
     "library": "var_list.py",
     "varRefreshCmd": "print(var_dic_list())"
    },
    "r": {
     "delete_cmd_postfix": ") ",
     "delete_cmd_prefix": "rm(",
     "library": "var_list.r",
     "varRefreshCmd": "cat(var_dic_list()) "
    }
   },
   "types_to_exclude": [
    "module",
    "function",
    "builtin_function_or_method",
    "instance",
    "_Feature"
   ],
   "window_display": false
  }
 },
 "nbformat": 4,
 "nbformat_minor": 5
}
